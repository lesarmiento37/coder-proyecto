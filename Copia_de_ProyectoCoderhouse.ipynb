{
  "nbformat": 4,
  "nbformat_minor": 0,
  "metadata": {
    "colab": {
      "name": "Copia de ProyectoCoderhouse.ipynb",
      "provenance": [],
      "collapsed_sections": [],
      "include_colab_link": true
    },
    "kernelspec": {
      "name": "python3",
      "display_name": "Python 3"
    },
    "language_info": {
      "name": "python"
    }
  },
  "cells": [
    {
      "cell_type": "markdown",
      "metadata": {
        "id": "view-in-github",
        "colab_type": "text"
      },
      "source": [
        "<a href=\"https://colab.research.google.com/github/lesarmiento37/coder-proyecto/blob/main/Copia_de_ProyectoCoderhouse.ipynb\" target=\"_parent\"><img src=\"https://colab.research.google.com/assets/colab-badge.svg\" alt=\"Open In Colab\"/></a>"
      ]
    },
    {
      "cell_type": "code",
      "execution_count": 2,
      "metadata": {
        "colab": {
          "base_uri": "https://localhost:8080/"
        },
        "id": "X-EOyPI3OMOY",
        "outputId": "9a30ed55-215c-4104-817e-2f2507c31946"
      },
      "outputs": [
        {
          "output_type": "stream",
          "name": "stdout",
          "text": [
            "Drive already mounted at /content/drive; to attempt to forcibly remount, call drive.mount(\"/content/drive\", force_remount=True).\n"
          ]
        }
      ],
      "source": [
        "from google.colab import drive\n",
        "drive.mount('/content/drive')"
      ]
    },
    {
      "cell_type": "code",
      "source": [
        "import numpy as np\n",
        "import pandas as pd\n",
        "data = pd.read_csv(r\"drive/MyDrive/ProyectoFinalCoder/loan_data_2007_2014.csv\", sep=',' ,encoding='latin-1')\n",
        "data.head(5)"
      ],
      "metadata": {
        "colab": {
          "base_uri": "https://localhost:8080/",
          "height": 421
        },
        "id": "1USQ4GBkOO-F",
        "outputId": "8199de3a-e4a2-4c82-edaf-2b0cef8a7fb3"
      },
      "execution_count": 3,
      "outputs": [
        {
          "output_type": "stream",
          "name": "stderr",
          "text": [
            "/usr/local/lib/python3.7/dist-packages/IPython/core/interactiveshell.py:2882: DtypeWarning: Columns (19) have mixed types.Specify dtype option on import or set low_memory=False.\n",
            "  exec(code_obj, self.user_global_ns, self.user_ns)\n"
          ]
        },
        {
          "output_type": "execute_result",
          "data": {
            "text/plain": [
              "        id  member_id  loan_amnt  funded_amnt  funded_amnt_inv        term  \\\n",
              "0  1077501    1296599       5000         5000           4975.0   36 months   \n",
              "1  1077430    1314167       2500         2500           2500.0   60 months   \n",
              "2  1077175    1313524       2400         2400           2400.0   36 months   \n",
              "3  1076863    1277178      10000        10000          10000.0   36 months   \n",
              "4  1075358    1311748       3000         3000           3000.0   60 months   \n",
              "\n",
              "   int_rate  installment grade sub_grade  ... total_bal_il il_util  \\\n",
              "0     10.65       162.87     B        B2  ...          NaN     NaN   \n",
              "1     15.27        59.83     C        C4  ...          NaN     NaN   \n",
              "2     15.96        84.33     C        C5  ...          NaN     NaN   \n",
              "3     13.49       339.31     C        C1  ...          NaN     NaN   \n",
              "4     12.69        67.79     B        B5  ...          NaN     NaN   \n",
              "\n",
              "  open_rv_12m  open_rv_24m max_bal_bc all_util total_rev_hi_lim inq_fi  \\\n",
              "0         NaN          NaN        NaN      NaN              NaN    NaN   \n",
              "1         NaN          NaN        NaN      NaN              NaN    NaN   \n",
              "2         NaN          NaN        NaN      NaN              NaN    NaN   \n",
              "3         NaN          NaN        NaN      NaN              NaN    NaN   \n",
              "4         NaN          NaN        NaN      NaN              NaN    NaN   \n",
              "\n",
              "  total_cu_tl inq_last_12m  \n",
              "0         NaN          NaN  \n",
              "1         NaN          NaN  \n",
              "2         NaN          NaN  \n",
              "3         NaN          NaN  \n",
              "4         NaN          NaN  \n",
              "\n",
              "[5 rows x 74 columns]"
            ],
            "text/html": [
              "\n",
              "  <div id=\"df-c0100932-7732-4b38-8eb6-48d935eb2302\">\n",
              "    <div class=\"colab-df-container\">\n",
              "      <div>\n",
              "<style scoped>\n",
              "    .dataframe tbody tr th:only-of-type {\n",
              "        vertical-align: middle;\n",
              "    }\n",
              "\n",
              "    .dataframe tbody tr th {\n",
              "        vertical-align: top;\n",
              "    }\n",
              "\n",
              "    .dataframe thead th {\n",
              "        text-align: right;\n",
              "    }\n",
              "</style>\n",
              "<table border=\"1\" class=\"dataframe\">\n",
              "  <thead>\n",
              "    <tr style=\"text-align: right;\">\n",
              "      <th></th>\n",
              "      <th>id</th>\n",
              "      <th>member_id</th>\n",
              "      <th>loan_amnt</th>\n",
              "      <th>funded_amnt</th>\n",
              "      <th>funded_amnt_inv</th>\n",
              "      <th>term</th>\n",
              "      <th>int_rate</th>\n",
              "      <th>installment</th>\n",
              "      <th>grade</th>\n",
              "      <th>sub_grade</th>\n",
              "      <th>...</th>\n",
              "      <th>total_bal_il</th>\n",
              "      <th>il_util</th>\n",
              "      <th>open_rv_12m</th>\n",
              "      <th>open_rv_24m</th>\n",
              "      <th>max_bal_bc</th>\n",
              "      <th>all_util</th>\n",
              "      <th>total_rev_hi_lim</th>\n",
              "      <th>inq_fi</th>\n",
              "      <th>total_cu_tl</th>\n",
              "      <th>inq_last_12m</th>\n",
              "    </tr>\n",
              "  </thead>\n",
              "  <tbody>\n",
              "    <tr>\n",
              "      <th>0</th>\n",
              "      <td>1077501</td>\n",
              "      <td>1296599</td>\n",
              "      <td>5000</td>\n",
              "      <td>5000</td>\n",
              "      <td>4975.0</td>\n",
              "      <td>36 months</td>\n",
              "      <td>10.65</td>\n",
              "      <td>162.87</td>\n",
              "      <td>B</td>\n",
              "      <td>B2</td>\n",
              "      <td>...</td>\n",
              "      <td>NaN</td>\n",
              "      <td>NaN</td>\n",
              "      <td>NaN</td>\n",
              "      <td>NaN</td>\n",
              "      <td>NaN</td>\n",
              "      <td>NaN</td>\n",
              "      <td>NaN</td>\n",
              "      <td>NaN</td>\n",
              "      <td>NaN</td>\n",
              "      <td>NaN</td>\n",
              "    </tr>\n",
              "    <tr>\n",
              "      <th>1</th>\n",
              "      <td>1077430</td>\n",
              "      <td>1314167</td>\n",
              "      <td>2500</td>\n",
              "      <td>2500</td>\n",
              "      <td>2500.0</td>\n",
              "      <td>60 months</td>\n",
              "      <td>15.27</td>\n",
              "      <td>59.83</td>\n",
              "      <td>C</td>\n",
              "      <td>C4</td>\n",
              "      <td>...</td>\n",
              "      <td>NaN</td>\n",
              "      <td>NaN</td>\n",
              "      <td>NaN</td>\n",
              "      <td>NaN</td>\n",
              "      <td>NaN</td>\n",
              "      <td>NaN</td>\n",
              "      <td>NaN</td>\n",
              "      <td>NaN</td>\n",
              "      <td>NaN</td>\n",
              "      <td>NaN</td>\n",
              "    </tr>\n",
              "    <tr>\n",
              "      <th>2</th>\n",
              "      <td>1077175</td>\n",
              "      <td>1313524</td>\n",
              "      <td>2400</td>\n",
              "      <td>2400</td>\n",
              "      <td>2400.0</td>\n",
              "      <td>36 months</td>\n",
              "      <td>15.96</td>\n",
              "      <td>84.33</td>\n",
              "      <td>C</td>\n",
              "      <td>C5</td>\n",
              "      <td>...</td>\n",
              "      <td>NaN</td>\n",
              "      <td>NaN</td>\n",
              "      <td>NaN</td>\n",
              "      <td>NaN</td>\n",
              "      <td>NaN</td>\n",
              "      <td>NaN</td>\n",
              "      <td>NaN</td>\n",
              "      <td>NaN</td>\n",
              "      <td>NaN</td>\n",
              "      <td>NaN</td>\n",
              "    </tr>\n",
              "    <tr>\n",
              "      <th>3</th>\n",
              "      <td>1076863</td>\n",
              "      <td>1277178</td>\n",
              "      <td>10000</td>\n",
              "      <td>10000</td>\n",
              "      <td>10000.0</td>\n",
              "      <td>36 months</td>\n",
              "      <td>13.49</td>\n",
              "      <td>339.31</td>\n",
              "      <td>C</td>\n",
              "      <td>C1</td>\n",
              "      <td>...</td>\n",
              "      <td>NaN</td>\n",
              "      <td>NaN</td>\n",
              "      <td>NaN</td>\n",
              "      <td>NaN</td>\n",
              "      <td>NaN</td>\n",
              "      <td>NaN</td>\n",
              "      <td>NaN</td>\n",
              "      <td>NaN</td>\n",
              "      <td>NaN</td>\n",
              "      <td>NaN</td>\n",
              "    </tr>\n",
              "    <tr>\n",
              "      <th>4</th>\n",
              "      <td>1075358</td>\n",
              "      <td>1311748</td>\n",
              "      <td>3000</td>\n",
              "      <td>3000</td>\n",
              "      <td>3000.0</td>\n",
              "      <td>60 months</td>\n",
              "      <td>12.69</td>\n",
              "      <td>67.79</td>\n",
              "      <td>B</td>\n",
              "      <td>B5</td>\n",
              "      <td>...</td>\n",
              "      <td>NaN</td>\n",
              "      <td>NaN</td>\n",
              "      <td>NaN</td>\n",
              "      <td>NaN</td>\n",
              "      <td>NaN</td>\n",
              "      <td>NaN</td>\n",
              "      <td>NaN</td>\n",
              "      <td>NaN</td>\n",
              "      <td>NaN</td>\n",
              "      <td>NaN</td>\n",
              "    </tr>\n",
              "  </tbody>\n",
              "</table>\n",
              "<p>5 rows × 74 columns</p>\n",
              "</div>\n",
              "      <button class=\"colab-df-convert\" onclick=\"convertToInteractive('df-c0100932-7732-4b38-8eb6-48d935eb2302')\"\n",
              "              title=\"Convert this dataframe to an interactive table.\"\n",
              "              style=\"display:none;\">\n",
              "        \n",
              "  <svg xmlns=\"http://www.w3.org/2000/svg\" height=\"24px\"viewBox=\"0 0 24 24\"\n",
              "       width=\"24px\">\n",
              "    <path d=\"M0 0h24v24H0V0z\" fill=\"none\"/>\n",
              "    <path d=\"M18.56 5.44l.94 2.06.94-2.06 2.06-.94-2.06-.94-.94-2.06-.94 2.06-2.06.94zm-11 1L8.5 8.5l.94-2.06 2.06-.94-2.06-.94L8.5 2.5l-.94 2.06-2.06.94zm10 10l.94 2.06.94-2.06 2.06-.94-2.06-.94-.94-2.06-.94 2.06-2.06.94z\"/><path d=\"M17.41 7.96l-1.37-1.37c-.4-.4-.92-.59-1.43-.59-.52 0-1.04.2-1.43.59L10.3 9.45l-7.72 7.72c-.78.78-.78 2.05 0 2.83L4 21.41c.39.39.9.59 1.41.59.51 0 1.02-.2 1.41-.59l7.78-7.78 2.81-2.81c.8-.78.8-2.07 0-2.86zM5.41 20L4 18.59l7.72-7.72 1.47 1.35L5.41 20z\"/>\n",
              "  </svg>\n",
              "      </button>\n",
              "      \n",
              "  <style>\n",
              "    .colab-df-container {\n",
              "      display:flex;\n",
              "      flex-wrap:wrap;\n",
              "      gap: 12px;\n",
              "    }\n",
              "\n",
              "    .colab-df-convert {\n",
              "      background-color: #E8F0FE;\n",
              "      border: none;\n",
              "      border-radius: 50%;\n",
              "      cursor: pointer;\n",
              "      display: none;\n",
              "      fill: #1967D2;\n",
              "      height: 32px;\n",
              "      padding: 0 0 0 0;\n",
              "      width: 32px;\n",
              "    }\n",
              "\n",
              "    .colab-df-convert:hover {\n",
              "      background-color: #E2EBFA;\n",
              "      box-shadow: 0px 1px 2px rgba(60, 64, 67, 0.3), 0px 1px 3px 1px rgba(60, 64, 67, 0.15);\n",
              "      fill: #174EA6;\n",
              "    }\n",
              "\n",
              "    [theme=dark] .colab-df-convert {\n",
              "      background-color: #3B4455;\n",
              "      fill: #D2E3FC;\n",
              "    }\n",
              "\n",
              "    [theme=dark] .colab-df-convert:hover {\n",
              "      background-color: #434B5C;\n",
              "      box-shadow: 0px 1px 3px 1px rgba(0, 0, 0, 0.15);\n",
              "      filter: drop-shadow(0px 1px 2px rgba(0, 0, 0, 0.3));\n",
              "      fill: #FFFFFF;\n",
              "    }\n",
              "  </style>\n",
              "\n",
              "      <script>\n",
              "        const buttonEl =\n",
              "          document.querySelector('#df-c0100932-7732-4b38-8eb6-48d935eb2302 button.colab-df-convert');\n",
              "        buttonEl.style.display =\n",
              "          google.colab.kernel.accessAllowed ? 'block' : 'none';\n",
              "\n",
              "        async function convertToInteractive(key) {\n",
              "          const element = document.querySelector('#df-c0100932-7732-4b38-8eb6-48d935eb2302');\n",
              "          const dataTable =\n",
              "            await google.colab.kernel.invokeFunction('convertToInteractive',\n",
              "                                                     [key], {});\n",
              "          if (!dataTable) return;\n",
              "\n",
              "          const docLinkHtml = 'Like what you see? Visit the ' +\n",
              "            '<a target=\"_blank\" href=https://colab.research.google.com/notebooks/data_table.ipynb>data table notebook</a>'\n",
              "            + ' to learn more about interactive tables.';\n",
              "          element.innerHTML = '';\n",
              "          dataTable['output_type'] = 'display_data';\n",
              "          await google.colab.output.renderOutput(dataTable, element);\n",
              "          const docLink = document.createElement('div');\n",
              "          docLink.innerHTML = docLinkHtml;\n",
              "          element.appendChild(docLink);\n",
              "        }\n",
              "      </script>\n",
              "    </div>\n",
              "  </div>\n",
              "  "
            ]
          },
          "metadata": {},
          "execution_count": 3
        }
      ]
    },
    {
      "cell_type": "code",
      "source": [
        "from google.colab import drive\n",
        "drive.mount('/content/drive')"
      ],
      "metadata": {
        "colab": {
          "base_uri": "https://localhost:8080/"
        },
        "id": "dkrr8eKh2viq",
        "outputId": "c1d66cdf-8a50-4f35-fb13-cee3d0820b58"
      },
      "execution_count": 4,
      "outputs": [
        {
          "output_type": "stream",
          "name": "stdout",
          "text": [
            "Drive already mounted at /content/drive; to attempt to forcibly remount, call drive.mount(\"/content/drive\", force_remount=True).\n"
          ]
        }
      ]
    },
    {
      "cell_type": "code",
      "source": [
        "import matplotlib.pyplot as plt\n",
        "from sklearn.model_selection import train_test_split, RepeatedStratifiedKFold, cross_val_score\n",
        "from sklearn.linear_model import LogisticRegression\n",
        "from sklearn.metrics import roc_curve, roc_auc_score, confusion_matrix, precision_recall_curve, auc\n",
        "from sklearn.feature_selection import f_classif\n",
        "from sklearn.pipeline import Pipeline\n",
        "from sklearn.base import BaseEstimator, TransformerMixin\n",
        "from scipy.stats import chi2_contingency\n",
        "import seaborn as sns"
      ],
      "metadata": {
        "id": "upbKF73XQTDB"
      },
      "execution_count": 26,
      "outputs": []
    },
    {
      "cell_type": "code",
      "source": [
        "#Obtener columnas\n",
        "print(data.columns)"
      ],
      "metadata": {
        "colab": {
          "base_uri": "https://localhost:8080/"
        },
        "id": "GTrwZ1Z-nZEU",
        "outputId": "77c71edf-31c8-4db4-aa22-6ee6e9bdfc0e"
      },
      "execution_count": 23,
      "outputs": [
        {
          "output_type": "stream",
          "name": "stdout",
          "text": [
            "Index(['id', 'member_id', 'loan_amnt', 'funded_amnt', 'funded_amnt_inv',\n",
            "       'term', 'int_rate', 'installment', 'grade', 'sub_grade', 'emp_title',\n",
            "       'emp_length', 'home_ownership', 'annual_inc', 'verification_status',\n",
            "       'issue_d', 'pymnt_plan', 'url', 'desc', 'purpose', 'title', 'zip_code',\n",
            "       'addr_state', 'dti', 'delinq_2yrs', 'earliest_cr_line',\n",
            "       'inq_last_6mths', 'mths_since_last_delinq', 'open_acc', 'pub_rec',\n",
            "       'revol_bal', 'revol_util', 'total_acc', 'initial_list_status',\n",
            "       'out_prncp', 'out_prncp_inv', 'total_pymnt', 'total_pymnt_inv',\n",
            "       'total_rec_prncp', 'total_rec_int', 'total_rec_late_fee', 'recoveries',\n",
            "       'collection_recovery_fee', 'last_pymnt_d', 'last_pymnt_amnt',\n",
            "       'next_pymnt_d', 'last_credit_pull_d', 'collections_12_mths_ex_med',\n",
            "       'mths_since_last_major_derog', 'policy_code', 'application_type',\n",
            "       'acc_now_delinq', 'tot_coll_amt', 'tot_cur_bal', 'total_rev_hi_lim',\n",
            "       'good_bad'],\n",
            "      dtype='object')\n"
          ]
        }
      ]
    },
    {
      "cell_type": "code",
      "source": [
        "variables = ['delinq_2yrs','inq_last_6mths','mths_since_last_delinq','open_acc','pub_rec','revol_util','total_acc','loan_amnt']\n",
        "\n",
        "columns = 2\n",
        "\n",
        "fig, axes = plt.subplots(4,2)\n",
        "\n",
        "for current_idx, variable in enumerate(variables):\n",
        "    i = current_idx // columns\n",
        "    j = current_idx % columns\n",
        "    sns.distplot(data[variable], ax=axes[i][j])\n",
        "    axes[i][j].set_title(variable)\n",
        "    axes[i][j].set_xlabel(\"\")\n",
        "\n",
        "    \n",
        "plt.tight_layout()"
      ],
      "metadata": {
        "colab": {
          "base_uri": "https://localhost:8080/",
          "height": 594
        },
        "id": "Dlfbl0lEnn5t",
        "outputId": "54814ad8-6f05-4a1b-90b8-516bea98ed49"
      },
      "execution_count": 46,
      "outputs": [
        {
          "output_type": "stream",
          "name": "stderr",
          "text": [
            "/usr/local/lib/python3.7/dist-packages/seaborn/distributions.py:2619: FutureWarning: `distplot` is a deprecated function and will be removed in a future version. Please adapt your code to use either `displot` (a figure-level function with similar flexibility) or `histplot` (an axes-level function for histograms).\n",
            "  warnings.warn(msg, FutureWarning)\n",
            "/usr/local/lib/python3.7/dist-packages/seaborn/distributions.py:2619: FutureWarning: `distplot` is a deprecated function and will be removed in a future version. Please adapt your code to use either `displot` (a figure-level function with similar flexibility) or `histplot` (an axes-level function for histograms).\n",
            "  warnings.warn(msg, FutureWarning)\n",
            "/usr/local/lib/python3.7/dist-packages/seaborn/distributions.py:2619: FutureWarning: `distplot` is a deprecated function and will be removed in a future version. Please adapt your code to use either `displot` (a figure-level function with similar flexibility) or `histplot` (an axes-level function for histograms).\n",
            "  warnings.warn(msg, FutureWarning)\n",
            "/usr/local/lib/python3.7/dist-packages/seaborn/distributions.py:2619: FutureWarning: `distplot` is a deprecated function and will be removed in a future version. Please adapt your code to use either `displot` (a figure-level function with similar flexibility) or `histplot` (an axes-level function for histograms).\n",
            "  warnings.warn(msg, FutureWarning)\n",
            "/usr/local/lib/python3.7/dist-packages/seaborn/distributions.py:2619: FutureWarning: `distplot` is a deprecated function and will be removed in a future version. Please adapt your code to use either `displot` (a figure-level function with similar flexibility) or `histplot` (an axes-level function for histograms).\n",
            "  warnings.warn(msg, FutureWarning)\n",
            "/usr/local/lib/python3.7/dist-packages/seaborn/distributions.py:2619: FutureWarning: `distplot` is a deprecated function and will be removed in a future version. Please adapt your code to use either `displot` (a figure-level function with similar flexibility) or `histplot` (an axes-level function for histograms).\n",
            "  warnings.warn(msg, FutureWarning)\n",
            "/usr/local/lib/python3.7/dist-packages/seaborn/distributions.py:2619: FutureWarning: `distplot` is a deprecated function and will be removed in a future version. Please adapt your code to use either `displot` (a figure-level function with similar flexibility) or `histplot` (an axes-level function for histograms).\n",
            "  warnings.warn(msg, FutureWarning)\n",
            "/usr/local/lib/python3.7/dist-packages/seaborn/distributions.py:2619: FutureWarning: `distplot` is a deprecated function and will be removed in a future version. Please adapt your code to use either `displot` (a figure-level function with similar flexibility) or `histplot` (an axes-level function for histograms).\n",
            "  warnings.warn(msg, FutureWarning)\n"
          ]
        },
        {
          "output_type": "display_data",
          "data": {
            "text/plain": [
              "<Figure size 432x288 with 8 Axes>"
            ],
            "image/png": "[encoded data removed]"
          },
          "metadata": {
            "needs_background": "light"
          }
        }
      ]
    },
    {
      "cell_type": "code",
      "source": [
        "data_columns = data.columns\n",
        "df_delinq_2yrs = data['delinq_2yrs']\n",
        "df_loan_status_counts = data['loan_status'].value_counts()\n",
        "df_loan_status_counts_normalize = data['loan_status'].value_counts(normalize = True)\n",
        "#Se determina la variable target \"loan-status\" si esta en status Charged off, Default, Late o Does not meet the credit policy. Status:Charged Off se considera en mora, de lo contrario clasifica como bueno\n",
        "print(df_loan_status_counts_normalize)\n"
      ],
      "metadata": {
        "id": "d0wNU7YJQZCI",
        "colab": {
          "base_uri": "https://localhost:8080/",
          "height": 502
        },
        "outputId": "033ad96e-678f-4608-d961-7f11dbca8f5a"
      },
      "execution_count": 36,
      "outputs": [
        {
          "output_type": "error",
          "ename": "KeyError",
          "evalue": "ignored",
          "traceback": [
            "\u001b[0;31m---------------------------------------------------------------------------\u001b[0m",
            "\u001b[0;31mKeyError\u001b[0m                                  Traceback (most recent call last)",
            "\u001b[0;32m/usr/local/lib/python3.7/dist-packages/pandas/core/indexes/base.py\u001b[0m in \u001b[0;36mget_loc\u001b[0;34m(self, key, method, tolerance)\u001b[0m\n\u001b[1;32m   3360\u001b[0m             \u001b[0;32mtry\u001b[0m\u001b[0;34m:\u001b[0m\u001b[0;34m\u001b[0m\u001b[0;34m\u001b[0m\u001b[0m\n\u001b[0;32m-> 3361\u001b[0;31m                 \u001b[0;32mreturn\u001b[0m \u001b[0mself\u001b[0m\u001b[0;34m.\u001b[0m\u001b[0m_engine\u001b[0m\u001b[0;34m.\u001b[0m\u001b[0mget_loc\u001b[0m\u001b[0;34m(\u001b[0m\u001b[0mcasted_key\u001b[0m\u001b[0;34m)\u001b[0m\u001b[0;34m\u001b[0m\u001b[0;34m\u001b[0m\u001b[0m\n\u001b[0m\u001b[1;32m   3362\u001b[0m             \u001b[0;32mexcept\u001b[0m \u001b[0mKeyError\u001b[0m \u001b[0;32mas\u001b[0m \u001b[0merr\u001b[0m\u001b[0;34m:\u001b[0m\u001b[0;34m\u001b[0m\u001b[0;34m\u001b[0m\u001b[0m\n",
            "\u001b[0;32m/usr/local/lib/python3.7/dist-packages/pandas/_libs/index.pyx\u001b[0m in \u001b[0;36mpandas._libs.index.IndexEngine.get_loc\u001b[0;34m()\u001b[0m\n",
            "\u001b[0;32m/usr/local/lib/python3.7/dist-packages/pandas/_libs/index.pyx\u001b[0m in \u001b[0;36mpandas._libs.index.IndexEngine.get_loc\u001b[0;34m()\u001b[0m\n",
            "\u001b[0;32mpandas/_libs/hashtable_class_helper.pxi\u001b[0m in \u001b[0;36mpandas._libs.hashtable.PyObjectHashTable.get_item\u001b[0;34m()\u001b[0m\n",
            "\u001b[0;32mpandas/_libs/hashtable_class_helper.pxi\u001b[0m in \u001b[0;36mpandas._libs.hashtable.PyObjectHashTable.get_item\u001b[0;34m()\u001b[0m\n",
            "\u001b[0;31mKeyError\u001b[0m: 'loan_status'",
            "\nThe above exception was the direct cause of the following exception:\n",
            "\u001b[0;31mKeyError\u001b[0m                                  Traceback (most recent call last)",
            "\u001b[0;32m<ipython-input-36-93cf6b312340>\u001b[0m in \u001b[0;36m<module>\u001b[0;34m()\u001b[0m\n\u001b[1;32m      1\u001b[0m \u001b[0mdata_columns\u001b[0m \u001b[0;34m=\u001b[0m \u001b[0mdata\u001b[0m\u001b[0;34m.\u001b[0m\u001b[0mcolumns\u001b[0m\u001b[0;34m\u001b[0m\u001b[0;34m\u001b[0m\u001b[0m\n\u001b[1;32m      2\u001b[0m \u001b[0mdf_delinq_2yrs\u001b[0m \u001b[0;34m=\u001b[0m \u001b[0mdata\u001b[0m\u001b[0;34m[\u001b[0m\u001b[0;34m'delinq_2yrs'\u001b[0m\u001b[0;34m]\u001b[0m\u001b[0;34m\u001b[0m\u001b[0;34m\u001b[0m\u001b[0m\n\u001b[0;32m----> 3\u001b[0;31m \u001b[0mdf_loan_status_counts\u001b[0m \u001b[0;34m=\u001b[0m \u001b[0mdata\u001b[0m\u001b[0;34m[\u001b[0m\u001b[0;34m'loan_status'\u001b[0m\u001b[0;34m]\u001b[0m\u001b[0;34m.\u001b[0m\u001b[0mvalue_counts\u001b[0m\u001b[0;34m(\u001b[0m\u001b[0;34m)\u001b[0m\u001b[0;34m\u001b[0m\u001b[0;34m\u001b[0m\u001b[0m\n\u001b[0m\u001b[1;32m      4\u001b[0m \u001b[0mdf_loan_status_counts_normalize\u001b[0m \u001b[0;34m=\u001b[0m \u001b[0mdata\u001b[0m\u001b[0;34m[\u001b[0m\u001b[0;34m'loan_status'\u001b[0m\u001b[0;34m]\u001b[0m\u001b[0;34m.\u001b[0m\u001b[0mvalue_counts\u001b[0m\u001b[0;34m(\u001b[0m\u001b[0mnormalize\u001b[0m \u001b[0;34m=\u001b[0m \u001b[0;32mTrue\u001b[0m\u001b[0;34m)\u001b[0m\u001b[0;34m\u001b[0m\u001b[0;34m\u001b[0m\u001b[0m\n\u001b[1;32m      5\u001b[0m \u001b[0;31m#Se determina la variable target \"loan-status\" si esta en status Charged off, Default, Late o Does not meet the credit policy. Status:Charged Off se considera en mora, de lo contrario clasifica como bueno\u001b[0m\u001b[0;34m\u001b[0m\u001b[0;34m\u001b[0m\u001b[0;34m\u001b[0m\u001b[0m\n",
            "\u001b[0;32m/usr/local/lib/python3.7/dist-packages/pandas/core/frame.py\u001b[0m in \u001b[0;36m__getitem__\u001b[0;34m(self, key)\u001b[0m\n\u001b[1;32m   3456\u001b[0m             \u001b[0;32mif\u001b[0m \u001b[0mself\u001b[0m\u001b[0;34m.\u001b[0m\u001b[0mcolumns\u001b[0m\u001b[0;34m.\u001b[0m\u001b[0mnlevels\u001b[0m \u001b[0;34m>\u001b[0m \u001b[0;36m1\u001b[0m\u001b[0;34m:\u001b[0m\u001b[0;34m\u001b[0m\u001b[0;34m\u001b[0m\u001b[0m\n\u001b[1;32m   3457\u001b[0m                 \u001b[0;32mreturn\u001b[0m \u001b[0mself\u001b[0m\u001b[0;34m.\u001b[0m\u001b[0m_getitem_multilevel\u001b[0m\u001b[0;34m(\u001b[0m\u001b[0mkey\u001b[0m\u001b[0;34m)\u001b[0m\u001b[0;34m\u001b[0m\u001b[0;34m\u001b[0m\u001b[0m\n\u001b[0;32m-> 3458\u001b[0;31m             \u001b[0mindexer\u001b[0m \u001b[0;34m=\u001b[0m \u001b[0mself\u001b[0m\u001b[0;34m.\u001b[0m\u001b[0mcolumns\u001b[0m\u001b[0;34m.\u001b[0m\u001b[0mget_loc\u001b[0m\u001b[0;34m(\u001b[0m\u001b[0mkey\u001b[0m\u001b[0;34m)\u001b[0m\u001b[0;34m\u001b[0m\u001b[0;34m\u001b[0m\u001b[0m\n\u001b[0m\u001b[1;32m   3459\u001b[0m             \u001b[0;32mif\u001b[0m \u001b[0mis_integer\u001b[0m\u001b[0;34m(\u001b[0m\u001b[0mindexer\u001b[0m\u001b[0;34m)\u001b[0m\u001b[0;34m:\u001b[0m\u001b[0;34m\u001b[0m\u001b[0;34m\u001b[0m\u001b[0m\n\u001b[1;32m   3460\u001b[0m                 \u001b[0mindexer\u001b[0m \u001b[0;34m=\u001b[0m \u001b[0;34m[\u001b[0m\u001b[0mindexer\u001b[0m\u001b[0;34m]\u001b[0m\u001b[0;34m\u001b[0m\u001b[0;34m\u001b[0m\u001b[0m\n",
            "\u001b[0;32m/usr/local/lib/python3.7/dist-packages/pandas/core/indexes/base.py\u001b[0m in \u001b[0;36mget_loc\u001b[0;34m(self, key, method, tolerance)\u001b[0m\n\u001b[1;32m   3361\u001b[0m                 \u001b[0;32mreturn\u001b[0m \u001b[0mself\u001b[0m\u001b[0;34m.\u001b[0m\u001b[0m_engine\u001b[0m\u001b[0;34m.\u001b[0m\u001b[0mget_loc\u001b[0m\u001b[0;34m(\u001b[0m\u001b[0mcasted_key\u001b[0m\u001b[0;34m)\u001b[0m\u001b[0;34m\u001b[0m\u001b[0;34m\u001b[0m\u001b[0m\n\u001b[1;32m   3362\u001b[0m             \u001b[0;32mexcept\u001b[0m \u001b[0mKeyError\u001b[0m \u001b[0;32mas\u001b[0m \u001b[0merr\u001b[0m\u001b[0;34m:\u001b[0m\u001b[0;34m\u001b[0m\u001b[0;34m\u001b[0m\u001b[0m\n\u001b[0;32m-> 3363\u001b[0;31m                 \u001b[0;32mraise\u001b[0m \u001b[0mKeyError\u001b[0m\u001b[0;34m(\u001b[0m\u001b[0mkey\u001b[0m\u001b[0;34m)\u001b[0m \u001b[0;32mfrom\u001b[0m \u001b[0merr\u001b[0m\u001b[0;34m\u001b[0m\u001b[0;34m\u001b[0m\u001b[0m\n\u001b[0m\u001b[1;32m   3364\u001b[0m \u001b[0;34m\u001b[0m\u001b[0m\n\u001b[1;32m   3365\u001b[0m         \u001b[0;32mif\u001b[0m \u001b[0mis_scalar\u001b[0m\u001b[0;34m(\u001b[0m\u001b[0mkey\u001b[0m\u001b[0;34m)\u001b[0m \u001b[0;32mand\u001b[0m \u001b[0misna\u001b[0m\u001b[0;34m(\u001b[0m\u001b[0mkey\u001b[0m\u001b[0;34m)\u001b[0m \u001b[0;32mand\u001b[0m \u001b[0;32mnot\u001b[0m \u001b[0mself\u001b[0m\u001b[0;34m.\u001b[0m\u001b[0mhasnans\u001b[0m\u001b[0;34m:\u001b[0m\u001b[0;34m\u001b[0m\u001b[0;34m\u001b[0m\u001b[0m\n",
            "\u001b[0;31mKeyError\u001b[0m: 'loan_status'"
          ]
        }
      ]
    },
    {
      "cell_type": "code",
      "source": [
        "#Se borran las columnas que tienen mas del 80% de los datos nulos\n",
        "data.dropna(thresh = data.shape[0]*0.2, how = 'all', axis = 1, inplace = True)\n",
        "data_columns = data.columns\n",
        "print(data.head(10))"
      ],
      "metadata": {
        "colab": {
          "base_uri": "https://localhost:8080/"
        },
        "id": "Jm3RDKki2fIF",
        "outputId": "c8ac657a-9db2-4441-94bb-6644036297e1"
      },
      "execution_count": 7,
      "outputs": [
        {
          "output_type": "stream",
          "name": "stdout",
          "text": [
            "        id  member_id  loan_amnt  funded_amnt  funded_amnt_inv        term  \\\n",
            "0  1077501    1296599       5000         5000           4975.0   36 months   \n",
            "1  1077430    1314167       2500         2500           2500.0   60 months   \n",
            "2  1077175    1313524       2400         2400           2400.0   36 months   \n",
            "3  1076863    1277178      10000        10000          10000.0   36 months   \n",
            "4  1075358    1311748       3000         3000           3000.0   60 months   \n",
            "5  1075269    1311441       5000         5000           5000.0   36 months   \n",
            "6  1069639    1304742       7000         7000           7000.0   60 months   \n",
            "7  1072053    1288686       3000         3000           3000.0   36 months   \n",
            "8  1071795    1306957       5600         5600           5600.0   60 months   \n",
            "9  1071570    1306721       5375         5375           5350.0   60 months   \n",
            "\n",
            "   int_rate  installment grade sub_grade  ... next_pymnt_d last_credit_pull_d  \\\n",
            "0     10.65       162.87     B        B2  ...          NaN             Jan-16   \n",
            "1     15.27        59.83     C        C4  ...          NaN             Sep-13   \n",
            "2     15.96        84.33     C        C5  ...          NaN             Jan-16   \n",
            "3     13.49       339.31     C        C1  ...          NaN             Jan-15   \n",
            "4     12.69        67.79     B        B5  ...       Feb-16             Jan-16   \n",
            "5      7.90       156.46     A        A4  ...          NaN             Sep-15   \n",
            "6     15.96       170.08     C        C5  ...       Feb-16             Jan-16   \n",
            "7     18.64       109.43     E        E1  ...          NaN             Dec-14   \n",
            "8     21.28       152.39     F        F2  ...          NaN             Aug-12   \n",
            "9     12.69       121.45     B        B5  ...          NaN             Mar-13   \n",
            "\n",
            "  collections_12_mths_ex_med  mths_since_last_major_derog policy_code  \\\n",
            "0                        0.0                          NaN           1   \n",
            "1                        0.0                          NaN           1   \n",
            "2                        0.0                          NaN           1   \n",
            "3                        0.0                          NaN           1   \n",
            "4                        0.0                          NaN           1   \n",
            "5                        0.0                          NaN           1   \n",
            "6                        0.0                          NaN           1   \n",
            "7                        0.0                          NaN           1   \n",
            "8                        0.0                          NaN           1   \n",
            "9                        0.0                          NaN           1   \n",
            "\n",
            "  application_type acc_now_delinq tot_coll_amt tot_cur_bal total_rev_hi_lim  \n",
            "0       INDIVIDUAL            0.0          NaN         NaN              NaN  \n",
            "1       INDIVIDUAL            0.0          NaN         NaN              NaN  \n",
            "2       INDIVIDUAL            0.0          NaN         NaN              NaN  \n",
            "3       INDIVIDUAL            0.0          NaN         NaN              NaN  \n",
            "4       INDIVIDUAL            0.0          NaN         NaN              NaN  \n",
            "5       INDIVIDUAL            0.0          NaN         NaN              NaN  \n",
            "6       INDIVIDUAL            0.0          NaN         NaN              NaN  \n",
            "7       INDIVIDUAL            0.0          NaN         NaN              NaN  \n",
            "8       INDIVIDUAL            0.0          NaN         NaN              NaN  \n",
            "9       INDIVIDUAL            0.0          NaN         NaN              NaN  \n",
            "\n",
            "[10 rows x 56 columns]\n"
          ]
        }
      ]
    },
    {
      "cell_type": "code",
      "source": [
        "#Se borran las columnas redundantes\n",
        "#data.drop(columns = ['id', 'member_id', 'sub_grade', 'emp_title', 'url', 'desc', 'title', 'zip_code', 'next_pymnt_d', 'recoveries', 'collection_recovery_fee','total_rec_prncp', 'total_rec_late_fee'], inplace = True)\n",
        "print(data.head(10))"
      ],
      "metadata": {
        "colab": {
          "base_uri": "https://localhost:8080/"
        },
        "id": "ypcdN5fD43gs",
        "outputId": "22385541-5431-4705-ae3f-8cd6f18a248f"
      },
      "execution_count": 8,
      "outputs": [
        {
          "output_type": "stream",
          "name": "stdout",
          "text": [
            "        id  member_id  loan_amnt  funded_amnt  funded_amnt_inv        term  \\\n",
            "0  1077501    1296599       5000         5000           4975.0   36 months   \n",
            "1  1077430    1314167       2500         2500           2500.0   60 months   \n",
            "2  1077175    1313524       2400         2400           2400.0   36 months   \n",
            "3  1076863    1277178      10000        10000          10000.0   36 months   \n",
            "4  1075358    1311748       3000         3000           3000.0   60 months   \n",
            "5  1075269    1311441       5000         5000           5000.0   36 months   \n",
            "6  1069639    1304742       7000         7000           7000.0   60 months   \n",
            "7  1072053    1288686       3000         3000           3000.0   36 months   \n",
            "8  1071795    1306957       5600         5600           5600.0   60 months   \n",
            "9  1071570    1306721       5375         5375           5350.0   60 months   \n",
            "\n",
            "   int_rate  installment grade sub_grade  ... next_pymnt_d last_credit_pull_d  \\\n",
            "0     10.65       162.87     B        B2  ...          NaN             Jan-16   \n",
            "1     15.27        59.83     C        C4  ...          NaN             Sep-13   \n",
            "2     15.96        84.33     C        C5  ...          NaN             Jan-16   \n",
            "3     13.49       339.31     C        C1  ...          NaN             Jan-15   \n",
            "4     12.69        67.79     B        B5  ...       Feb-16             Jan-16   \n",
            "5      7.90       156.46     A        A4  ...          NaN             Sep-15   \n",
            "6     15.96       170.08     C        C5  ...       Feb-16             Jan-16   \n",
            "7     18.64       109.43     E        E1  ...          NaN             Dec-14   \n",
            "8     21.28       152.39     F        F2  ...          NaN             Aug-12   \n",
            "9     12.69       121.45     B        B5  ...          NaN             Mar-13   \n",
            "\n",
            "  collections_12_mths_ex_med  mths_since_last_major_derog policy_code  \\\n",
            "0                        0.0                          NaN           1   \n",
            "1                        0.0                          NaN           1   \n",
            "2                        0.0                          NaN           1   \n",
            "3                        0.0                          NaN           1   \n",
            "4                        0.0                          NaN           1   \n",
            "5                        0.0                          NaN           1   \n",
            "6                        0.0                          NaN           1   \n",
            "7                        0.0                          NaN           1   \n",
            "8                        0.0                          NaN           1   \n",
            "9                        0.0                          NaN           1   \n",
            "\n",
            "  application_type acc_now_delinq tot_coll_amt tot_cur_bal total_rev_hi_lim  \n",
            "0       INDIVIDUAL            0.0          NaN         NaN              NaN  \n",
            "1       INDIVIDUAL            0.0          NaN         NaN              NaN  \n",
            "2       INDIVIDUAL            0.0          NaN         NaN              NaN  \n",
            "3       INDIVIDUAL            0.0          NaN         NaN              NaN  \n",
            "4       INDIVIDUAL            0.0          NaN         NaN              NaN  \n",
            "5       INDIVIDUAL            0.0          NaN         NaN              NaN  \n",
            "6       INDIVIDUAL            0.0          NaN         NaN              NaN  \n",
            "7       INDIVIDUAL            0.0          NaN         NaN              NaN  \n",
            "8       INDIVIDUAL            0.0          NaN         NaN              NaN  \n",
            "9       INDIVIDUAL            0.0          NaN         NaN              NaN  \n",
            "\n",
            "[10 rows x 56 columns]\n"
          ]
        }
      ]
    },
    {
      "cell_type": "code",
      "source": [
        "#Explorar los valores unicos en la columna loan_status\n",
        "print(data['loan_status'].value_counts(normalize = True))"
      ],
      "metadata": {
        "colab": {
          "base_uri": "https://localhost:8080/"
        },
        "id": "BjsSxgr_6Xa9",
        "outputId": "783cf2fe-1e24-4a85-ca5f-ba62d21b20ff"
      },
      "execution_count": 9,
      "outputs": [
        {
          "output_type": "stream",
          "name": "stdout",
          "text": [
            "Current                                                0.480878\n",
            "Fully Paid                                             0.396193\n",
            "Charged Off                                            0.091092\n",
            "Late (31-120 days)                                     0.014798\n",
            "In Grace Period                                        0.006747\n",
            "Does not meet the credit policy. Status:Fully Paid     0.004263\n",
            "Late (16-30 days)                                      0.002612\n",
            "Default                                                0.001784\n",
            "Does not meet the credit policy. Status:Charged Off    0.001632\n",
            "Name: loan_status, dtype: float64\n"
          ]
        }
      ]
    },
    {
      "cell_type": "code",
      "source": [
        "#Crear una nueva columna basada en el loan_status que será nuestra variable target\n",
        "data['good_bad'] = np.where(data.loc[:,'loan_status'].isin(['Charged Off', 'Default','Late (31-120 days)','Does not meet the credit policy. Status:Charged Off']),0, 1)\n",
        "print(data['good_bad'].head(10))\n",
        "print(data['loan_status'].head(10))"
      ],
      "metadata": {
        "colab": {
          "base_uri": "https://localhost:8080/"
        },
        "id": "snE-eR6Y6xrL",
        "outputId": "a598df15-abf1-4ada-f085-2310dd40a30e"
      },
      "execution_count": 10,
      "outputs": [
        {
          "output_type": "stream",
          "name": "stdout",
          "text": [
            "0    1\n",
            "1    0\n",
            "2    1\n",
            "3    1\n",
            "4    1\n",
            "5    1\n",
            "6    1\n",
            "7    1\n",
            "8    0\n",
            "9    0\n",
            "Name: good_bad, dtype: int64\n",
            "0     Fully Paid\n",
            "1    Charged Off\n",
            "2     Fully Paid\n",
            "3     Fully Paid\n",
            "4        Current\n",
            "5     Fully Paid\n",
            "6        Current\n",
            "7     Fully Paid\n",
            "8    Charged Off\n",
            "9    Charged Off\n",
            "Name: loan_status, dtype: object\n"
          ]
        }
      ]
    },
    {
      "cell_type": "code",
      "source": [
        "#Eliminando la columna original de loan_status y reemplazandola por good_bad\n",
        "data.drop(columns = ['loan_status'], inplace = True)\n",
        "print(data.head(10))"
      ],
      "metadata": {
        "colab": {
          "base_uri": "https://localhost:8080/"
        },
        "id": "RW_aZjaN7vkn",
        "outputId": "a1bd7be6-a607-4300-f880-eab8f531c6e6"
      },
      "execution_count": 11,
      "outputs": [
        {
          "output_type": "stream",
          "name": "stdout",
          "text": [
            "        id  member_id  loan_amnt  funded_amnt  funded_amnt_inv        term  \\\n",
            "0  1077501    1296599       5000         5000           4975.0   36 months   \n",
            "1  1077430    1314167       2500         2500           2500.0   60 months   \n",
            "2  1077175    1313524       2400         2400           2400.0   36 months   \n",
            "3  1076863    1277178      10000        10000          10000.0   36 months   \n",
            "4  1075358    1311748       3000         3000           3000.0   60 months   \n",
            "5  1075269    1311441       5000         5000           5000.0   36 months   \n",
            "6  1069639    1304742       7000         7000           7000.0   60 months   \n",
            "7  1072053    1288686       3000         3000           3000.0   36 months   \n",
            "8  1071795    1306957       5600         5600           5600.0   60 months   \n",
            "9  1071570    1306721       5375         5375           5350.0   60 months   \n",
            "\n",
            "   int_rate  installment grade sub_grade  ... last_credit_pull_d  \\\n",
            "0     10.65       162.87     B        B2  ...             Jan-16   \n",
            "1     15.27        59.83     C        C4  ...             Sep-13   \n",
            "2     15.96        84.33     C        C5  ...             Jan-16   \n",
            "3     13.49       339.31     C        C1  ...             Jan-15   \n",
            "4     12.69        67.79     B        B5  ...             Jan-16   \n",
            "5      7.90       156.46     A        A4  ...             Sep-15   \n",
            "6     15.96       170.08     C        C5  ...             Jan-16   \n",
            "7     18.64       109.43     E        E1  ...             Dec-14   \n",
            "8     21.28       152.39     F        F2  ...             Aug-12   \n",
            "9     12.69       121.45     B        B5  ...             Mar-13   \n",
            "\n",
            "  collections_12_mths_ex_med mths_since_last_major_derog  policy_code  \\\n",
            "0                        0.0                         NaN            1   \n",
            "1                        0.0                         NaN            1   \n",
            "2                        0.0                         NaN            1   \n",
            "3                        0.0                         NaN            1   \n",
            "4                        0.0                         NaN            1   \n",
            "5                        0.0                         NaN            1   \n",
            "6                        0.0                         NaN            1   \n",
            "7                        0.0                         NaN            1   \n",
            "8                        0.0                         NaN            1   \n",
            "9                        0.0                         NaN            1   \n",
            "\n",
            "  application_type acc_now_delinq tot_coll_amt tot_cur_bal total_rev_hi_lim  \\\n",
            "0       INDIVIDUAL            0.0          NaN         NaN              NaN   \n",
            "1       INDIVIDUAL            0.0          NaN         NaN              NaN   \n",
            "2       INDIVIDUAL            0.0          NaN         NaN              NaN   \n",
            "3       INDIVIDUAL            0.0          NaN         NaN              NaN   \n",
            "4       INDIVIDUAL            0.0          NaN         NaN              NaN   \n",
            "5       INDIVIDUAL            0.0          NaN         NaN              NaN   \n",
            "6       INDIVIDUAL            0.0          NaN         NaN              NaN   \n",
            "7       INDIVIDUAL            0.0          NaN         NaN              NaN   \n",
            "8       INDIVIDUAL            0.0          NaN         NaN              NaN   \n",
            "9       INDIVIDUAL            0.0          NaN         NaN              NaN   \n",
            "\n",
            "  good_bad  \n",
            "0        1  \n",
            "1        0  \n",
            "2        1  \n",
            "3        1  \n",
            "4        1  \n",
            "5        1  \n",
            "6        1  \n",
            "7        1  \n",
            "8        0  \n",
            "9        0  \n",
            "\n",
            "[10 rows x 56 columns]\n"
          ]
        }
      ]
    },
    {
      "cell_type": "code",
      "source": [
        "#Para mantener el modelo se realiza un split de los datos de 80 20 mientras se mantiene la distribución de malos prestamos en el conjunto de prueba en el pre-split dataset\n",
        "X = data.drop('good_bad', axis = 1)\n",
        "y = data['good_bad']\n",
        "X_train, X_test, y_train, y_test = train_test_split(X, y, test_size = 0.2, random_state = 42, stratify = y)\n",
        "#Se realiza una copia de los dataset obtenidos\n",
        "X_train, X_test = X_train.copy(), X_test.copy()"
      ],
      "metadata": {
        "id": "lmRuRTYt8Yhg"
      },
      "execution_count": 12,
      "outputs": []
    },
    {
      "cell_type": "code",
      "source": [
        "#Metodos de limpieza de datos\n",
        "# function to clean up the emp_length column, assign 0 to NANs, and convert to numeric\n",
        "def emp_length_converter(df, column):\n",
        "    df[column] = df[column].str.replace('\\+ years', '')\n",
        "    df[column] = df[column].str.replace('< 1 year', str(0))\n",
        "    df[column] = df[column].str.replace(' years', '')\n",
        "    df[column] = df[column].str.replace(' year', '')\n",
        "    df[column] = pd.to_numeric(df[column])\n",
        "    df[column].fillna(value = 0, inplace = True)\n",
        "\n",
        "#function to convert date columns to datetime format and\n",
        "#reate a new column as a difference between today and the respective date\n",
        "\n",
        "def date_columns(df, column):\n",
        "    # store current month\n",
        "    today_date = pd.to_datetime('2020-08-01')\n",
        "    # convert to datetime format\n",
        "    df[column] = pd.to_datetime(df[column], format = \"%b-%y\")\n",
        "    # calculate the difference in months and add to a new column\n",
        "    df['mths_since_' + column] = round(pd.to_numeric((today_date - df[column]) / np.timedelta64(1, 'M')))\n",
        "    # make any resulting -ve values to be equal to the max date\n",
        "    df['mths_since_' + column] = df['mths_since_' + column].apply(lambda x: df['mths_since_' + column].max() if x < 0 else x)\n",
        "    # drop the original date column\n",
        "    df.drop(columns = [column], inplace = True)\n",
        "# function to remove 'months' string from the 'term' column and convert it to numeric\n",
        "def loan_term_converter(df, column):\n",
        "    df[column] = pd.to_numeric(df[column].str.replace(' months', ''))"
      ],
      "metadata": {
        "id": "EmLaAoilAHuy"
      },
      "execution_count": 13,
      "outputs": []
    },
    {
      "cell_type": "code",
      "source": [
        "#Aplicar metodos al dataset x train\n",
        "date_columns(X_train, 'earliest_cr_line')\n",
        "date_columns(X_train, 'issue_d')\n",
        "date_columns(X_train, 'last_pymnt_d')\n",
        "date_columns(X_train, 'last_credit_pull_d')\n",
        "emp_length_converter(X_train, 'emp_length')\n",
        "loan_term_converter(X_train, 'term')"
      ],
      "metadata": {
        "colab": {
          "base_uri": "https://localhost:8080/"
        },
        "id": "1UVqijdDEbD0",
        "outputId": "1d79104c-a0cc-45ee-886c-a74691216679"
      },
      "execution_count": 14,
      "outputs": [
        {
          "output_type": "stream",
          "name": "stderr",
          "text": [
            "/usr/local/lib/python3.7/dist-packages/ipykernel_launcher.py:4: FutureWarning: The default value of regex will change from True to False in a future version.\n",
            "  after removing the cwd from sys.path.\n"
          ]
        }
      ]
    },
    {
      "cell_type": "code",
      "source": [
        "X_train['mths_since_earliest_cr_line'].head(10)"
      ],
      "metadata": {
        "colab": {
          "base_uri": "https://localhost:8080/"
        },
        "id": "aznjaEjJEoHj",
        "outputId": "fda1ee25-1576-47f5-de07-c7564e271a33"
      },
      "execution_count": 15,
      "outputs": [
        {
          "output_type": "execute_result",
          "data": {
            "text/plain": [
              "456615    296.0\n",
              "451541    301.0\n",
              "394474    359.0\n",
              "110294    224.0\n",
              "139343    494.0\n",
              "258763    157.0\n",
              "320709    229.0\n",
              "462741    207.0\n",
              "347988    473.0\n",
              "72091     286.0\n",
              "Name: mths_since_earliest_cr_line, dtype: float64"
            ]
          },
          "metadata": {},
          "execution_count": 15
        }
      ]
    },
    {
      "cell_type": "code",
      "source": [
        "#Primero se divide la data training en subconjuntos categoricos y numéricos\n",
        "X_train_cat = X_train.select_dtypes(include = 'object').copy()\n",
        "X_train_num = X_train.select_dtypes(include = 'number').copy()\n",
        "#Se define un diccionario vacío para guardar los valores de test chi-squared \n",
        "chi2_check = {}"
      ],
      "metadata": {
        "id": "SK9lHPFLEseC"
      },
      "execution_count": 16,
      "outputs": []
    },
    {
      "cell_type": "code",
      "source": [
        "#Se realiza un loop a través de cada columna en el training set para calcular los valores estadísticos de chi con la variable target\n",
        "for column in X_train_cat:\n",
        "    chi, p, dof, ex = chi2_contingency(pd.crosstab(y_train, X_train_cat[column]))\n",
        "    chi2_check.setdefault('Feature',[]).append(column)\n",
        "    chi2_check.setdefault('p-value',[]).append(round(p, 10))"
      ],
      "metadata": {
        "id": "ingfAwEcK7xo"
      },
      "execution_count": 17,
      "outputs": []
    },
    {
      "cell_type": "code",
      "source": [
        "#Se convierte el diccionario a un DataFrame\n",
        "chi2_result = pd.DataFrame(data = chi2_check)\n",
        "chi2_result.sort_values(by = ['p-value'], ascending = True, ignore_index = True, inplace = True)"
      ],
      "metadata": {
        "id": "zZNxyNP1LXsU"
      },
      "execution_count": 18,
      "outputs": []
    },
    {
      "cell_type": "code",
      "source": [
        "#Debido a que la distribución f no permite valores nulos, realizaremos un reemplazo de estos\n",
        "X_train_num.fillna(X_train_num.mean(), inplace = True)\n",
        "#Se calculan las estadísticas F\n",
        "F_statistic, p_values = f_classif(X_train_num, y_train)"
      ],
      "metadata": {
        "colab": {
          "base_uri": "https://localhost:8080/"
        },
        "id": "W0thaftZLgTe",
        "outputId": "d8bdd9eb-cadd-4dfd-bf8b-7008a07acf83"
      },
      "execution_count": 19,
      "outputs": [
        {
          "output_type": "stream",
          "name": "stderr",
          "text": [
            "/usr/local/lib/python3.7/dist-packages/sklearn/feature_selection/_univariate_selection.py:112: UserWarning: Features [31] are constant.\n",
            "  warnings.warn(\"Features %s are constant.\" % constant_features_idx, UserWarning)\n",
            "/usr/local/lib/python3.7/dist-packages/sklearn/feature_selection/_univariate_selection.py:113: RuntimeWarning: invalid value encountered in true_divide\n",
            "  f = msb / msw\n"
          ]
        }
      ]
    },
    {
      "cell_type": "code",
      "source": [
        "#Se convierten a DataFrame\n",
        "ANOVA_F_table = pd.DataFrame(data = {'Numerical_Feature': X_train_num.columns.values,'F-Score': F_statistic, 'p values': p_values.round(decimals=10)})\n",
        "ANOVA_F_table.sort_values(by = ['F-Score'], ascending = False, ignore_index = True, inplace = True)\n",
        "#Se guardan los 20 valores con mayor valor en F y se almacenan en una lista\n",
        "top_num_features = ANOVA_F_table.iloc[:20,0].to_list()"
      ],
      "metadata": {
        "id": "VvGyWen1L6Wb"
      },
      "execution_count": 20,
      "outputs": []
    },
    {
      "cell_type": "code",
      "source": [
        "#Se calculan las correlaciones entre ellos\n",
        "import seaborn as sns\n",
        "corrmat = X_train_num[top_num_features].corr()\n",
        "plt.figure(figsize=(10,10))\n",
        "sns.heatmap(corrmat)\n"
      ],
      "metadata": {
        "colab": {
          "base_uri": "https://localhost:8080/",
          "height": 750
        },
        "id": "CGvHbmJrMNeY",
        "outputId": "9aa72140-8b24-4303-d009-dca6f5ff163a"
      },
      "execution_count": 21,
      "outputs": [
        {
          "output_type": "execute_result",
          "data": {
            "text/plain": [
              "<matplotlib.axes._subplots.AxesSubplot at 0x7ff11ebfdf50>"
            ]
          },
          "metadata": {},
          "execution_count": 21
        },
        {
          "output_type": "display_data",
          "data": {
            "text/plain": [
              "<Figure size 720x720 with 2 Axes>"
            ],
            "image/png": "[encoded data removed]"
          },
          "metadata": {
            "needs_background": "light"
          }
        }
      ]
    },
    {
      "cell_type": "code",
      "source": [
        "#Se guardan los nombres de las columnas que serán eliminadas en una lista\n",
        "drop_columns_list = ANOVA_F_table.iloc[20:, 0].to_list()\n",
        "drop_columns_list.extend(chi2_result.iloc[4:, 0].to_list())\n",
        "drop_columns_list.extend(['out_prncp_inv', 'total_pymnt_inv'])\n",
        "#Se añade la función para eliminar estas columnas\n",
        "def col_to_drop(df, columns_list):\n",
        "    df.drop(columns = columns_list, inplace = True)\n",
        "#Se aplican los cambios a X_train\n",
        "col_to_drop(X_train, drop_columns_list)"
      ],
      "metadata": {
        "id": "rPiNvAm-MhXh"
      },
      "execution_count": 22,
      "outputs": []
    },
    {
      "cell_type": "code",
      "source": [
        ""
      ],
      "metadata": {
        "id": "OZw2ASpdNF3z"
      },
      "execution_count": 22,
      "outputs": []
    }
  ]
}